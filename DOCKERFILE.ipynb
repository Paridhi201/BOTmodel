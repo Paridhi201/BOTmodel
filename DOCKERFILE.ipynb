{
  "nbformat": 4,
  "nbformat_minor": 0,
  "metadata": {
    "colab": {
      "provenance": []
    },
    "kernelspec": {
      "name": "python3",
      "display_name": "Python 3"
    },
    "language_info": {
      "name": "python"
    }
  },
  "cells": [
    {
      "cell_type": "code",
      "execution_count": 2,
      "metadata": {
        "colab": {
          "base_uri": "https://localhost:8080/",
          "height": 106
        },
        "id": "V2cJTsiPjIN5",
        "outputId": "8f03ce62-5652-4f15-d17b-7bf8a5bfbe44"
      },
      "outputs": [
        {
          "output_type": "error",
          "ename": "SyntaxError",
          "evalue": "invalid syntax (<ipython-input-2-4eacfae732a7>, line 2)",
          "traceback": [
            "\u001b[0;36m  File \u001b[0;32m\"<ipython-input-2-4eacfae732a7>\"\u001b[0;36m, line \u001b[0;32m2\u001b[0m\n\u001b[0;31m    FROM python:3.9-slim\u001b[0m\n\u001b[0m         ^\u001b[0m\n\u001b[0;31mSyntaxError\u001b[0m\u001b[0;31m:\u001b[0m invalid syntax\n"
          ]
        }
      ],
      "source": [
        "# 1. Use an official Python runtime as a base image\n",
        "FROM python:3.9-slim\n",
        "\n",
        "# 2. Set the working directory in the container\n",
        "WORKDIR /app\n",
        "WORKDIR /app\n",
        "\n",
        "# 3. Copy the current directory contents into the container at /app\n",
        "COPY . /app\n",
        "\n",
        "# 4. Install any dependencies specified in requirements.txt\n",
        "RUN pip install --no-cache-dir -r requirements.txt\n",
        "\n",
        "# 5. Make port 8501 available to the world outside this container (Streamlit default port)\n",
        "EXPOSE 8501\n",
        "\n",
        "# 6. Run the Streamlit app when the container launches\n",
        "CMD [\"streamlit\", \"run\", \"app.py\"]"
      ]
    }
  ]
}