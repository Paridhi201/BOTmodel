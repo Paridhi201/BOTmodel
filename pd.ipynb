{
  "nbformat": 4,
  "nbformat_minor": 0,
  "metadata": {
    "colab": {
      "provenance": []
    },
    "kernelspec": {
      "name": "python3",
      "display_name": "Python 3"
    },
    "language_info": {
      "name": "python"
    }
  },
  "cells": [
    {
      "cell_type": "code",
      "execution_count": null,
      "metadata": {
        "colab": {
          "base_uri": "https://localhost:8080/"
        },
        "id": "kcnqIGw0hc_q",
        "outputId": "51e58124-f96e-46e1-94ae-1858aa34b2b6"
      },
      "outputs": [
        {
          "output_type": "stream",
          "name": "stdout",
          "text": [
            "Requirement already satisfied: PyPDF2 in /usr/local/lib/python3.10/dist-packages (3.0.1)\n"
          ]
        }
      ],
      "source": [
        "!pip install PyPDF2\n",
        "from PyPDF2 import PdfReader\n",
        "# Extract text from the uploaded PDF\n",
        "def process_pdf(uploaded_file):\n",
        "    reader = PdfReader(uploaded_file)\n",
        "    document_text = ''\n",
        "    for page in reader.pages:\n",
        "        document_text += page.extract_text()\n",
        "    return document_text\n"
      ]
    }
  ]
}